{
 "cells": [
  {
   "cell_type": "code",
   "execution_count": 30,
   "id": "9cfa9f9c-c47d-4100-b328-deea78363420",
   "metadata": {},
   "outputs": [
    {
     "data": {
      "text/plain": [
       "'Caesar Cipher Code\\nThis is fairly simple, utilizing an consistent offset (shift) for every letter in a coded message.\\nFirst we must know the \"shift\" amount, and then, using the index of each letter, we shift each letter by that amount.\\nBelow is a code for decoding a Caesar Cipher\\n'"
      ]
     },
     "execution_count": 30,
     "metadata": {},
     "output_type": "execute_result"
    }
   ],
   "source": [
    "'''\n",
    "Caesar Cipher Code\n",
    "This is fairly simple, utilizing an consistent offset (shift) for every letter in a coded message.\n",
    "First we must know the \"shift\" amount, and then, using the index of each letter, we shift each letter by that amount.\n",
    "Below is a code for decoding a Caesar Cipher\n",
    "'''"
   ]
  },
  {
   "cell_type": "code",
   "execution_count": 15,
   "id": "858334fa-f376-4999-96ec-4ad3f7491601",
   "metadata": {},
   "outputs": [
    {
     "name": "stdout",
     "output_type": "stream",
     "text": [
      "Hey there! This is an example of a Caesar Cipher. Were you able to decode it? I hope so! Send me a message back with the same offset!\n"
     ]
    }
   ],
   "source": [
    "\n",
    "##First, let's define our alphabet as a list:\n",
    "alphabet = [\"a\", \"b\", \"c\", \"d\", \"e\", \"f\", \"g\", \"h\", \"i\", \"j\", \"k\", \"l\", \"m\", \"n\", \"o\", \"p\", \"q\", \"r\", \"s\", \"t\", \"u\", \"v\", \"w\", \"x\", \"y\", \"z\"]\n",
    "#Now, let's define our function for decoding Caesar Cipher messages.\n",
    "def caesar_decode(shift, text):\n",
    "    #we create an empty list to append with each decoded letter.\n",
    "    message = []\n",
    "    #create a for loop to cycle through each letter of our encrypted message.\n",
    "    for letter in text:\n",
    "        #create an if clause so that special characters are not included in our decoding process (periods, commas, punctuations)\n",
    "        #we also are using the letter.lower() so that if there are any uppercase letters, we don't accidentally skip over them!\n",
    "        if letter.lower() in alphabet:\n",
    "            #first, find the index of the encoded letter using our alphabet\n",
    "            old_index = alphabet.index(letter.lower())\n",
    "            #then, using our shift number, find the decoded index. We use modulo to deal with \"wrapping around\".\n",
    "            new_index = (old_index + shift)%len(alphabet)\n",
    "            #finally, using our new decoded index, we append our message with the correct letter!\n",
    "            new_letter = alphabet[new_index]\n",
    "            #using append, we keep the original case of the message!\n",
    "            message.append(new_letter.upper() if letter.isupper() else new_letter)\n",
    "        #if our character is not in the alphabet (punctuations), it will be appended directly to our decoded message!\n",
    "        else:\n",
    "            message.append(letter)\n",
    "    print(\"\".join(message))\n",
    "\n",
    "caesar_decode(10, \"Xuo jxuhu! Jxyi yi qd unqcfbu ev q Squiqh Syfxuh. Muhu oek qrbu je tusetu yj? Y xefu ie! Iudt cu q cuiiqwu rqsa myjx jxu iqcu evviuj!\")        "
   ]
  },
  {
   "cell_type": "code",
   "execution_count": 16,
   "id": "47f43192-f0be-4d8e-ab85-046317e8378c",
   "metadata": {},
   "outputs": [
    {
     "data": {
      "text/plain": [
       "\"\\nGreat, now we can decode messages sent using the Caesar Cipher. But what if we wanted to encode them?\\nWe can use much of the same code/logic to create an encoder. We can continue to reference our alphabet so you\\nwon't see that list coded again.\\n\""
      ]
     },
     "execution_count": 16,
     "metadata": {},
     "output_type": "execute_result"
    }
   ],
   "source": [
    "'''\n",
    "Great, now we can decode messages sent using the Caesar Cipher. But what if we wanted to encode them?\n",
    "We can use much of the same code/logic to create an encoder. We can continue to reference our alphabet so you\n",
    "won't see that list coded again.\n",
    "'''"
   ]
  },
  {
   "cell_type": "code",
   "execution_count": 17,
   "id": "e497f600-bb7e-4b40-92d0-9c5bdf673bb1",
   "metadata": {},
   "outputs": [
    {
     "name": "stdout",
     "output_type": "stream",
     "text": [
      "Xuo jxuhu! Jxyi yi qd unqcfbu ev q Sqiuqh Syfxuh. Muhu oek qrbu je tusetu yj?\n"
     ]
    }
   ],
   "source": [
    "def caesar_encode(shift, text):\n",
    "    coded_message = []\n",
    "    for letter in text:\n",
    "        if letter.lower() in alphabet:\n",
    "            old_index = alphabet.index(letter.lower())\n",
    "            new_index = (old_index + shift)%len(alphabet)\n",
    "            new_letter = alphabet[new_index]\n",
    "            coded_message.append(new_letter.upper() if letter.isupper() else new_letter)\n",
    "        else:\n",
    "            coded_message.append(letter)\n",
    "    print(\"\".join(coded_message))\n",
    "\n",
    "caesar_encode(-10, \"Hey there! This is an example of a Casear Cipher. Were you able to decode it?\")"
   ]
  },
  {
   "cell_type": "code",
   "execution_count": 18,
   "id": "18f641e9-411d-45b0-92d6-16faf541f16d",
   "metadata": {},
   "outputs": [
    {
     "data": {
      "text/plain": [
       "\"\\nLet's say we got a Caesar Coded message, but we dont know the shift!\\nWe can brute force this message by forcing our caesar_decode function to perform a shift based on every\\npossible index of the alphabet. Let's try it below!\\n\""
      ]
     },
     "execution_count": 18,
     "metadata": {},
     "output_type": "execute_result"
    }
   ],
   "source": [
    "'''\n",
    "Let's say we got a Caesar Coded message, but we dont know the shift!\n",
    "We can brute force this message by forcing our caesar_decode function to perform a shift based on every\n",
    "possible index of the alphabet. Let's try it below!\n",
    "'''"
   ]
  },
  {
   "cell_type": "code",
   "execution_count": 19,
   "id": "ee7a318e-99f6-4b4b-b5a2-ea253c18bfa9",
   "metadata": {},
   "outputs": [
    {
     "name": "stdout",
     "output_type": "stream",
     "text": [
      " vhfinmxkl atox kxgwxkxw tee hy maxlx hew vbiaxkl hulhexmx. px'ee atox mh kxteer lmxi ni hnk ztfx by px ptgm mh dxxi hnk fxlltzxl ltyx.\n",
      " wigjonylm bupy lyhxylyx uff iz nbymy ifx wcjbylm ivmifyny. qy'ff bupy ni lyuffs mnyj oj iol augy cz qy quhn ni eyyj iol gymmuaym muzy.\n",
      " xjhkpozmn cvqz mziyzmzy vgg ja ocznz jgy xdkczmn jwnjgzoz. rz'gg cvqz oj mzvggt nozk pk jpm bvhz da rz rvio oj fzzk jpm hznnvbzn nvaz.\n",
      " ykilqpano dwra najzanaz whh kb pdaoa khz yeldano kxokhapa. sa'hh dwra pk nawhhu opal ql kqn cwia eb sa swjp pk gaal kqn iaoowcao owba.\n",
      " zljmrqbop exsb obkaboba xii lc qebpb lia zfmebop lyplibqb. tb'ii exsb ql obxiiv pqbm rm lro dxjb fc tb txkq ql hbbm lro jbppxdbp pxcb.\n",
      " amknsrcpq fytc pclbcpcb yjj md rfcqc mjb agnfcpq mzqmjcrc. uc'jj fytc rm pcyjjw qrcn sn msp eykc gd uc uylr rm iccn msp kcqqyecq qydc.\n",
      " bnlotsdqr gzud qdmcdqdc zkk ne sgdrd nkc bhogdqr narnkdsd. vd'kk gzud sn qdzkkx rsdo to ntq fzld he vd vzms sn jddo ntq ldrrzfdr rzed.\n",
      " computers have rendered all of these old ciphers obsolete. we'll have to really step up our game if we want to keep our messages safe.\n",
      " dpnqvufst ibwf sfoefsfe bmm pg uiftf pme djqifst pctpmfuf. xf'mm ibwf up sfbmmz tufq vq pvs hbnf jg xf xbou up lffq pvs nfttbhft tbgf.\n",
      " eqorwvgtu jcxg tgpfgtgf cnn qh vjgug qnf ekrjgtu qduqngvg. yg'nn jcxg vq tgcnna uvgr wr qwt icog kh yg ycpv vq mggr qwt oguucigu uchg.\n",
      " frpsxwhuv kdyh uhqghuhg doo ri wkhvh rog flskhuv revrohwh. zh'oo kdyh wr uhdoob vwhs xs rxu jdph li zh zdqw wr nhhs rxu phvvdjhv vdih.\n",
      " gsqtyxivw lezi virhivih epp sj xliwi sph gmtlivw sfwspixi. ai'pp lezi xs vieppc wxit yt syv keqi mj ai aerx xs oiit syv qiwwekiw weji.\n",
      " htruzyjwx mfaj wjsijwji fqq tk ymjxj tqi hnumjwx tgxtqjyj. bj'qq mfaj yt wjfqqd xyju zu tzw lfrj nk bj bfsy yt pjju tzw rjxxfljx xfkj.\n",
      " iusvazkxy ngbk xktjkxkj grr ul znkyk urj iovnkxy uhyurkzk. ck'rr ngbk zu xkgrre yzkv av uax mgsk ol ck cgtz zu qkkv uax skyygmky yglk.\n",
      " jvtwbalyz ohcl yluklylk hss vm aolzl vsk jpwolyz vizvslal. dl'ss ohcl av ylhssf zalw bw vby nhtl pm dl dhua av rllw vby tlzzhnlz zhml.\n",
      " kwuxcbmza pidm zmvlmzml itt wn bpmam wtl kqxpmza wjawtmbm. em'tt pidm bw zmittg abmx cx wcz oium qn em eivb bw smmx wcz umaaioma ainm.\n",
      " lxvydcnab qjen anwmnanm juu xo cqnbn xum lryqnab xkbxuncn. fn'uu qjen cx anjuuh bcny dy xda pjvn ro fn fjwc cx tnny xda vnbbjpnb bjon.\n",
      " mywzedobc rkfo boxnobon kvv yp droco yvn mszrobc ylcyvodo. go'vv rkfo dy bokvvi cdoz ez yeb qkwo sp go gkxd dy uooz yeb wocckqoc ckpo.\n",
      " nzxafepcd slgp cpyopcpo lww zq espdp zwo ntaspcd zmdzwpep. hp'ww slgp ez cplwwj depa fa zfc rlxp tq hp hlye ez vppa zfc xpddlrpd dlqp.\n",
      " oaybgfqde tmhq dqzpqdqp mxx ar ftqeq axp oubtqde aneaxqfq. iq'xx tmhq fa dqmxxk efqb gb agd smyq ur iq imzf fa wqqb agd yqeemsqe emrq.\n",
      " pbzchgref unir eraqrerq nyy bs gurfr byq pvcuref bofbyrgr. jr'yy unir gb ernyyl fgrc hc bhe tnzr vs jr jnag gb xrrc bhe zrffntrf fnsr.\n",
      " qcadihsfg vojs fsbrsfsr ozz ct hvsgs czr qwdvsfg cpgczshs. ks'zz vojs hc fsozzm ghsd id cif uoas wt ks kobh hc yssd cif asggousg gots.\n",
      " rdbejitgh wpkt gtcstgts paa du iwtht das rxewtgh dqhdatit. lt'aa wpkt id gtpaan hite je djg vpbt xu lt lpci id ztte djg bthhpvth hput.\n",
      " secfkjuhi xqlu hudtuhut qbb ev jxuiu ebt syfxuhi eriebuju. mu'bb xqlu je huqbbo ijuf kf ekh wqcu yv mu mqdj je auuf ekh cuiiqwui iqvu.\n",
      " tfdglkvij yrmv iveuvivu rcc fw kyvjv fcu tzgyvij fsjfcvkv. nv'cc yrmv kf ivrccp jkvg lg fli xrdv zw nv nrek kf bvvg fli dvjjrxvj jrwv.\n",
      " ugehmlwjk zsnw jwfvwjwv sdd gx lzwkw gdv uahzwjk gtkgdwlw. ow'dd zsnw lg jwsddq klwh mh gmj ysew ax ow osfl lg cwwh gmj ewkksywk ksxw.\n"
     ]
    }
   ],
   "source": [
    "for i in range(len(alphabet)):\n",
    "    caesar_decode(i, \" vhfinmxkl atox kxgwxkxw tee hy maxlx hew vbiaxkl hulhexmx. px'ee atox mh kxteer lmxi ni hnk ztfx by px ptgm mh dxxi hnk fxlltzxl ltyx.\")"
   ]
  },
  {
   "cell_type": "code",
   "execution_count": 20,
   "id": "2f439f9f-a4ff-4543-980e-30a91e4eca3b",
   "metadata": {},
   "outputs": [
    {
     "data": {
      "text/plain": [
       "'\\nNext up, let\\'s try the much more secure Vigenère Cipher\\nThe Vigenère Cipher uses a code word and shift to encode a message. For example:\\nif the code word is \"cat\", then the message \"hello world\" first becomes \"catca tcatc\"\\nthen the shift is calculated using the difference between the original message and the code word message.\\nfinally a new, encoded message is created using that calculated difference. so we go from...\\n\"hello world\" to...\\n\"catca tcatc\" to\\n\"fesjo dmrsb\"\\nWithout knowing the code word, it become much more difficult to break the code. Brute force becomes an expensive and time comsuming option.\\nSo lets create our own way of decoding and encoding messages using the Vigenère Cipher\\n'"
      ]
     },
     "execution_count": 20,
     "metadata": {},
     "output_type": "execute_result"
    }
   ],
   "source": [
    "'''\n",
    "Next up, let's try the much more secure Vigenère Cipher\n",
    "The Vigenère Cipher uses a code word and shift to encode a message. For example:\n",
    "if the code word is \"cat\", then the message \"hello world\" first becomes \"catca tcatc\"\n",
    "then the shift is calculated using the difference between the original message and the code word message.\n",
    "finally a new, encoded message is created using that calculated difference. so we go from...\n",
    "\"hello world\" to...\n",
    "\"catca tcatc\" to\n",
    "\"fesjo dmrsb\"\n",
    "Without knowing the code word, it become much more difficult to break the code. Brute force becomes an expensive and time comsuming option.\n",
    "So lets create our own way of decoding and encoding messages using the Vigenère Cipher\n",
    "'''"
   ]
  },
  {
   "cell_type": "code",
   "execution_count": 34,
   "id": "c9cab81c-5167-4762-a237-018c32bbc737",
   "metadata": {},
   "outputs": [
    {
     "name": "stdout",
     "output_type": "stream",
     "text": [
      "Ciphers are awesome!\n"
     ]
    }
   ],
   "source": [
    "def vigenere_decoder(keyword, text):\n",
    "    message = []\n",
    "    #The keyword index helps us keep our function in order.\n",
    "    keyword_index = 0\n",
    "    #begin with a for loop\n",
    "    for letter in text:\n",
    "        if letter.lower() in alphabet:\n",
    "            #codes correct letter of the keyword in the correct position\n",
    "            keyword_letter = keyword[keyword_index % len(keyword)]\n",
    "            #adds 1 to the index counter (so that the next for loop is in the correct postition)\n",
    "            keyword_index += 1\n",
    "            #calculates old/new indexes for the coded and decoded messages.\n",
    "            old_index = alphabet.index(letter.lower())\n",
    "            keyword_shift = alphabet.index(keyword_letter)\n",
    "            new_index = (old_index + keyword_shift) % len(alphabet)\n",
    "            new_letter = alphabet[new_index]\n",
    "            #We append our message with an if/else clause to keep the original case!\n",
    "            message.append(new_letter.upper() if letter.isupper() else new_letter)\n",
    "        else:\n",
    "            message.append(letter)\n",
    "    print(\"\".join(message))\n",
    "\n",
    "vigenere_decoder(\"cat\", \"Aiwfeyq ayc adcsvke!\")            "
   ]
  },
  {
   "cell_type": "code",
   "execution_count": null,
   "id": "7c5e62d3-3d85-478f-9835-380dcaafb6d8",
   "metadata": {},
   "outputs": [],
   "source": [
    "'''\n",
    "Finally, let's creat an encoder! We can use the same logic as our decoder\n",
    "'''"
   ]
  },
  {
   "cell_type": "code",
   "execution_count": 38,
   "id": "664a4abd-fbf1-44e6-9ce3-155e722726b4",
   "metadata": {},
   "outputs": [
    {
     "name": "stdout",
     "output_type": "stream",
     "text": [
      "Fesjo Dmrsb\n"
     ]
    }
   ],
   "source": [
    "def encoder(keyword, text):\n",
    "    #begin with an empty list for message, and an index counter of 0\n",
    "    message = []\n",
    "    keyword_index = 0\n",
    "    #create a for loop\n",
    "    for letter in text:\n",
    "        if letter.lower() in alphabet:\n",
    "            #this calls the correct keyword letter in sequence\n",
    "            keyword_letter = keyword[keyword_index % len(keyword)]\n",
    "            #this adds 1 to the index so that the next letter will be in the correct sequence. It is included in the \"if letter in alphabet\"\n",
    "            #so that special characters are skipped.\n",
    "            keyword_index += 1\n",
    "            #this finds the index of the current letter in our message\n",
    "            old_index = alphabet.index(letter.lower())\n",
    "            #this finds index of the current keyword letter.\n",
    "            keyword_shift = alphabet.index(keyword_letter)\n",
    "            #the new index is the old index minus the keyword letter index. We use modulo to account for negative numbers \"wrap-arounds\"\n",
    "            new_index = (old_index - keyword_shift) % len(alphabet)\n",
    "            new_letter = alphabet[new_index]\n",
    "            #our message is then encoded using append, and the new index of the letter in our alphabet.\n",
    "            message.append(new_letter.upper() if letter.isupper() else new_letter)\n",
    "        else:\n",
    "            message.append(letter)\n",
    "    print(''.join(message))\n",
    "\n",
    "encoder(\"cat\", \"Hello World\")"
   ]
  }
 ],
 "metadata": {
  "kernelspec": {
   "display_name": "Python [conda env:base] *",
   "language": "python",
   "name": "conda-base-py"
  },
  "language_info": {
   "codemirror_mode": {
    "name": "ipython",
    "version": 3
   },
   "file_extension": ".py",
   "mimetype": "text/x-python",
   "name": "python",
   "nbconvert_exporter": "python",
   "pygments_lexer": "ipython3",
   "version": "3.12.7"
  }
 },
 "nbformat": 4,
 "nbformat_minor": 5
}
